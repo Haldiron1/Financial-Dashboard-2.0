{
 "cells": [
  {
   "cell_type": "code",
   "execution_count": 1,
   "id": "3c57ad23",
   "metadata": {},
   "outputs": [],
   "source": [
    "import streamlit as st\n",
    "from datetime import date\n",
    "import yfinance as yf\n",
    "from prophet import Prophet\n",
    "from prophet.plot import plot_plotly\n",
    "from plotly import graph_objs as go\n",
    "import yahoo_fin.stock_info as si\n",
    "import pandas as pd\n",
    "import numpy as np\n",
    "from streamlit_option_menu import option_menu\n"
   ]
  },
  {
   "cell_type": "code",
   "execution_count": null,
   "id": "1454c729",
   "metadata": {},
   "outputs": [],
   "source": []
  }
 ],
 "metadata": {
  "kernelspec": {
   "display_name": "Python 3 (ipykernel)",
   "language": "python",
   "name": "python3"
  },
  "language_info": {
   "codemirror_mode": {
    "name": "ipython",
    "version": 3
   },
   "file_extension": ".py",
   "mimetype": "text/x-python",
   "name": "python",
   "nbconvert_exporter": "python",
   "pygments_lexer": "ipython3",
   "version": "3.9.13"
  }
 },
 "nbformat": 4,
 "nbformat_minor": 5
}
